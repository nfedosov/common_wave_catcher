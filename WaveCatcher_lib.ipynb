{
  "nbformat": 4,
  "nbformat_minor": 0,
  "metadata": {
    "colab": {
      "provenance": [],
      "mount_file_id": "13mCbeZaNkCT6Xk1R93xBLvU-IYPQAzPB",
      "authorship_tag": "ABX9TyOMNlDqgdJPo6w2dT++HWqd",
      "include_colab_link": true
    },
    "kernelspec": {
      "name": "python3",
      "display_name": "Python 3"
    },
    "language_info": {
      "name": "python"
    }
  },
  "cells": [
    {
      "cell_type": "markdown",
      "metadata": {
        "id": "view-in-github",
        "colab_type": "text"
      },
      "source": [
        "<a href=\"https://colab.research.google.com/github/nfedosov/common_wave_catcher/blob/main/WaveCatcher_lib.ipynb\" target=\"_parent\"><img src=\"https://colab.research.google.com/assets/colab-badge.svg\" alt=\"Open In Colab\"/></a>"
      ]
    },
    {
      "cell_type": "code",
      "execution_count": 1,
      "metadata": {
        "colab": {
          "base_uri": "https://localhost:8080/"
        },
        "id": "QEy0rYZf_wsU",
        "outputId": "e94b6d36-ad89-4d60-f734-e61591a595e9"
      },
      "outputs": [
        {
          "output_type": "stream",
          "name": "stdout",
          "text": [
            "Cloning into 'common_wave_catcher'...\n",
            "remote: Enumerating objects: 47, done.\u001b[K\n",
            "remote: Counting objects: 100% (47/47), done.\u001b[K\n",
            "remote: Compressing objects: 100% (43/43), done.\u001b[K\n",
            "remote: Total 47 (delta 23), reused 14 (delta 4), pack-reused 0\u001b[K\n",
            "Receiving objects: 100% (47/47), 23.02 KiB | 11.51 MiB/s, done.\n",
            "Resolving deltas: 100% (23/23), done.\n",
            "/content/common_wave_catcher\n"
          ]
        }
      ],
      "source": [
        "!gdown --folder https://drive.google.com/drive/folders/https://drive.google.com/drive/folders/1_rmDlb3TYDLnjBuRG_CO19_MgNGBo8fl\n",
        "!git clone https://github.com/nfedosov/common_wave_catcher.git\n",
        "%cd /content/common_wave_catcher"
      ]
    },
    {
      "cell_type": "code",
      "source": [
        "import wave_catch\n",
        "import wave_gen"
      ],
      "metadata": {
        "id": "mCS2l3-5_4JW"
      },
      "execution_count": 2,
      "outputs": []
    },
    {
      "cell_type": "code",
      "source": [
        "# Please set the path to your data\n",
        "G3 = '/content/common_wave_catcher/Wave_catch_matdata/headmodel_surf_os_meg.mat'\n",
        "cortex = '/content/common_wave_catcher/Wave_catch_matdata/tess_cortex_pial_high.mat'"
      ],
      "metadata": {
        "id": "SuTYgsI4BHoV"
      },
      "execution_count": 3,
      "outputs": []
    },
    {
      "cell_type": "markdown",
      "source": [
        "# Adjust params if needed"
      ],
      "metadata": {
        "id": "zEyuKgHxHtuS"
      }
    },
    {
      "cell_type": "code",
      "source": [
        "wave_gen.params"
      ],
      "metadata": {
        "colab": {
          "base_uri": "https://localhost:8080/"
        },
        "id": "FbSorqboGeKV",
        "outputId": "1954456e-70a9-4cd9-a7ec-45a8bb62cc64"
      },
      "execution_count": 4,
      "outputs": [
        {
          "output_type": "execute_result",
          "data": {
            "text/plain": [
              "{'duration': 0.051,\n",
              " 'sampling_rate': 1000.0,\n",
              " 'nspoints': 51,\n",
              " 'speed': 0.8,\n",
              " 'draw_paths': False,\n",
              " 'draw_wave': False}"
            ]
          },
          "metadata": {},
          "execution_count": 4
        }
      ]
    },
    {
      "cell_type": "code",
      "source": [
        "wave_gen.Nsim=20"
      ],
      "metadata": {
        "id": "sgaWqPuvIE_B"
      },
      "execution_count": 5,
      "outputs": []
    },
    {
      "cell_type": "markdown",
      "source": [
        "# Simulate data"
      ],
      "metadata": {
        "id": "SBoZChcuHrYN"
      }
    },
    {
      "cell_type": "code",
      "source": [
        "waves = wave_gen.generate_wave(G3,cortex)"
      ],
      "metadata": {
        "colab": {
          "base_uri": "https://localhost:8080/"
        },
        "id": "ynYsaNnMFxlG",
        "outputId": "6efb0e79-614b-43b9-99ed-66521f91ea0a"
      },
      "execution_count": 6,
      "outputs": [
        {
          "output_type": "stream",
          "name": "stderr",
          "text": [
            "Synthesizing data: 100%|██████████| 20/20 [00:55<00:00,  2.75s/it]\n"
          ]
        }
      ]
    },
    {
      "cell_type": "markdown",
      "source": [
        "#Gonna catch'em all..."
      ],
      "metadata": {
        "id": "uGxxGrLRH1k9"
      }
    },
    {
      "cell_type": "code",
      "source": [
        "FF = wave_catch.Detect_waves(waves)"
      ],
      "metadata": {
        "id": "IQpOpUIBGQHn"
      },
      "execution_count": 7,
      "outputs": []
    }
  ]
}
